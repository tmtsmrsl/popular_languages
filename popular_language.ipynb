{
 "cells": [
  {
   "cell_type": "markdown",
   "metadata": {
    "pycharm": {
     "name": "#%% md\n"
    }
   },
   "source": [
    "# Most Used Languages for Data Related Jobs"
   ]
  },
  {
   "cell_type": "markdown",
   "metadata": {
    "pycharm": {
     "name": "#%% md\n"
    }
   },
   "source": [
    "We are going to check the most used programming languages for data related jobs based on Stack Overflow Developer Survey 2021 results."
   ]
  },
  {
   "cell_type": "markdown",
   "metadata": {
    "pycharm": {
     "name": "#%% md\n"
    }
   },
   "source": [
    "### Import Libraries"
   ]
  },
  {
   "cell_type": "code",
   "execution_count": null,
   "metadata": {
    "pycharm": {
     "name": "#%%\n"
    }
   },
   "outputs": [],
   "source": [
    "import pandas as pd\n",
    "import numpy as np"
   ]
  },
  {
   "cell_type": "markdown",
   "metadata": {
    "pycharm": {
     "name": "#%% md\n"
    }
   },
   "source": [
    "### Load Dataset"
   ]
  },
  {
   "cell_type": "code",
   "execution_count": null,
   "metadata": {
    "pycharm": {
     "name": "#%%\n"
    }
   },
   "outputs": [],
   "source": [
    "result_df = pd.read_csv(\"C:/Users/Marselo/Downloads/Stackoverflow survey results/2021 survey_results_public.csv\")"
   ]
  },
  {
   "cell_type": "markdown",
   "metadata": {
    "pycharm": {
     "name": "#%% md\n"
    }
   },
   "source": [
    "### Overview of the Dataset"
   ]
  },
  {
   "cell_type": "code",
   "execution_count": null,
   "metadata": {
    "pycharm": {
     "name": "#%%\n"
    }
   },
   "outputs": [],
   "source": [
    "result_df.head(5)"
   ]
  },
  {
   "cell_type": "code",
   "execution_count": null,
   "metadata": {
    "pycharm": {
     "name": "#%%\n"
    }
   },
   "outputs": [],
   "source": [
    "result_df.info()"
   ]
  },
  {
   "cell_type": "markdown",
   "metadata": {
    "pycharm": {
     "name": "#%% md\n"
    }
   },
   "source": [
    "### Filtering the Dataset"
   ]
  },
  {
   "cell_type": "code",
   "execution_count": null,
   "metadata": {
    "pycharm": {
     "name": "#%%\n"
    }
   },
   "outputs": [],
   "source": [
    "result_df[\"MainBranch\"].value_counts()"
   ]
  },
  {
   "cell_type": "markdown",
   "metadata": {
    "pycharm": {
     "name": "#%% md\n"
    }
   },
   "source": [
    "We are primarily interested with those who code for the purpose of work. So we will isolate these two MainBranch: \"I am a developer by profession\" and \"I am not primarily a developer, but I write code sometimes as part of my work\"."
   ]
  },
  {
   "cell_type": "code",
   "execution_count": null,
   "metadata": {
    "pycharm": {
     "name": "#%%\n"
    }
   },
   "outputs": [],
   "source": [
    "result2_df: pd.DataFrame = result_df.loc[(result_df[\"MainBranch\"]==\"I am a developer by profession\") | (result_df[\"MainBranch\"]==\"I am not primarily a developer, but I write code sometimes as part of my work\")]\n",
    "result2_df.head(5)"
   ]
  },
  {
   "cell_type": "markdown",
   "metadata": {
    "pycharm": {
     "name": "#%% md\n"
    }
   },
   "source": [
    "Drop the rows if DevType column is null."
   ]
  },
  {
   "cell_type": "code",
   "execution_count": null,
   "metadata": {
    "pycharm": {
     "name": "#%%\n"
    }
   },
   "outputs": [],
   "source": [
    "print(result2_df.shape)\n",
    "result2_df = result2_df.dropna(subset=\"DevType\")\n",
    "print(result2_df.shape)"
   ]
  },
  {
   "cell_type": "code",
   "execution_count": null,
   "metadata": {
    "pycharm": {
     "name": "#%%\n"
    }
   },
   "outputs": [],
   "source": [
    "result2_df[\"DevType\"].value_counts()"
   ]
  },
  {
   "cell_type": "markdown",
   "metadata": {
    "pycharm": {
     "name": "#%% md\n"
    }
   },
   "source": [
    "We can see that one person is allowed to choose more than one option for DevType column (separated by ;). Now, we will check options available for DevType column."
   ]
  },
  {
   "cell_type": "code",
   "execution_count": null,
   "metadata": {
    "pycharm": {
     "name": "#%%\n"
    }
   },
   "outputs": [],
   "source": [
    "result2_df.loc[~result2_df[\"DevType\"].str.contains(\";\"), \"DevType\"].unique()"
   ]
  },
  {
   "cell_type": "markdown",
   "metadata": {
    "pycharm": {
     "name": "#%% md\n"
    }
   },
   "source": [
    "These are the available data related jobs for DevType options:\n",
    "- Data scientist or machine learning specialist\n",
    "- Data or business analyst\n",
    "- Engineer, data\n",
    "- Database administrator\n",
    "\n",
    "All data related jobs contain the word \"data\"."
   ]
  },
  {
   "cell_type": "code",
   "execution_count": null,
   "metadata": {
    "pycharm": {
     "name": "#%%\n"
    }
   },
   "outputs": [],
   "source": [
    "data_job_df = result2_df.loc[result2_df[\"DevType\"].str.contains(\"data\", case=False)]\n",
    "data_job_df.info()"
   ]
  },
  {
   "cell_type": "markdown",
   "metadata": {
    "pycharm": {
     "name": "#%% md\n"
    }
   },
   "source": [
    "Drop the rows if the LanguageHaveWorkedWith column is not available."
   ]
  },
  {
   "cell_type": "code",
   "execution_count": null,
   "metadata": {
    "pycharm": {
     "name": "#%%\n"
    }
   },
   "outputs": [],
   "source": [
    "print(data_job_df.shape)\n",
    "data_job_df = data_job_df.dropna(subset=\"LanguageHaveWorkedWith\")\n",
    "print(data_job_df.shape)"
   ]
  },
  {
   "cell_type": "code",
   "execution_count": null,
   "metadata": {
    "pycharm": {
     "name": "#%%\n"
    }
   },
   "outputs": [],
   "source": [
    "data_job_df[\"DevType\"].value_counts()"
   ]
  },
  {
   "cell_type": "markdown",
   "metadata": {
    "pycharm": {
     "name": "#%% md\n"
    }
   },
   "source": [
    "Since the rows with more than one DevType might skew the language count results, we are going to include only the options below:\n",
    "\"Data scientist or machine learning specialist\", \"Data or business analyst\", \"Engineer, data\", \"Database administrator\"\n"
   ]
  },
  {
   "cell_type": "code",
   "execution_count": null,
   "metadata": {
    "pycharm": {
     "name": "#%%\n"
    }
   },
   "outputs": [],
   "source": [
    "data_job_df = data_job_df[(data_job_df[\"DevType\"] == \"Data scientist or machine learning specialist\") | (data_job_df[\"DevType\"] == \"Data or business analyst\") | (data_job_df[\"DevType\"] == \"Engineer, data\") | (data_job_df[\"DevType\"] == \"Database administrator\")]\n",
    "data_job_df[\"DevType\"].value_counts()"
   ]
  },
  {
   "cell_type": "markdown",
   "metadata": {
    "pycharm": {
     "name": "#%% md\n"
    }
   },
   "source": [
    "### Data Transformation"
   ]
  },
  {
   "cell_type": "markdown",
   "metadata": {
    "pycharm": {
     "name": "#%% md\n"
    }
   },
   "source": [
    "Now we want to see the programming languages that are used by data related professions."
   ]
  },
  {
   "cell_type": "code",
   "execution_count": null,
   "metadata": {
    "pycharm": {
     "name": "#%%\n"
    }
   },
   "outputs": [],
   "source": [
    "language_df: pd.DataFrame = data_job_df.loc[:,[\"DevType\",\"LanguageHaveWorkedWith\"]]\n",
    "language_df"
   ]
  },
  {
   "cell_type": "markdown",
   "metadata": {
    "pycharm": {
     "name": "#%% md\n"
    }
   },
   "source": [
    "Similar to DevType, one person is allowed to choose more than one option for LanguageHaveWorkedWith column (separated by ;). Now, we will check the options available for DevType column."
   ]
  },
  {
   "cell_type": "code",
   "execution_count": null,
   "metadata": {
    "pycharm": {
     "name": "#%%\n"
    }
   },
   "outputs": [],
   "source": [
    "languages = language_df.loc[~language_df[\"LanguageHaveWorkedWith\"].str.contains(\";\"), \"LanguageHaveWorkedWith\"].unique()\n",
    "for language in languages:\n",
    "    print(language)"
   ]
  },
  {
   "cell_type": "markdown",
   "metadata": {
    "pycharm": {
     "name": "#%% md\n"
    }
   },
   "source": [
    "Now we will make a dataframe for each DevType (\"Data scientist or machine learning specialist\", \"Data or business analyst\", \"Engineer, data\", and \"Database administrator\")."
   ]
  },
  {
   "cell_type": "code",
   "execution_count": null,
   "metadata": {
    "pycharm": {
     "name": "#%%\n"
    }
   },
   "outputs": [],
   "source": [
    "ds_df = language_df[language_df[\"DevType\"].str.contains(\"Data scientist or machine learning specialist\")]\n",
    "ds_df"
   ]
  },
  {
   "cell_type": "code",
   "execution_count": null,
   "metadata": {
    "pycharm": {
     "name": "#%%\n"
    }
   },
   "outputs": [],
   "source": [
    "da_df = language_df[language_df[\"DevType\"].str.contains(\"Data or business analyst\")]\n",
    "de_df = language_df[language_df[\"DevType\"].str.contains(\"Engineer, data\")]\n",
    "dba_df = language_df[language_df[\"DevType\"].str.contains(\"Database administrator\")]"
   ]
  },
  {
   "cell_type": "markdown",
   "metadata": {
    "pycharm": {
     "name": "#%% md\n"
    }
   },
   "source": [
    "First we create a new dataframe to store the languages and their count based on each DevType. We calculate the total occurrences for each DevType and the occurrences of each language using a `for` loop. C and C++ are not included in the `for` loop because `str.count` is based on Regex pattern, and they would cause error/miscount."
   ]
  },
  {
   "cell_type": "code",
   "execution_count": null,
   "metadata": {
    "pycharm": {
     "name": "#%%\n"
    }
   },
   "outputs": [],
   "source": [
    "lang_count_df = pd.DataFrame()\n",
    "languages = np.delete(languages,(languages == \"C\") | (languages == \"C++\"))\n",
    "\n",
    "def add_lang_count(df: pd.DataFrame, job_type: str):\n",
    "    lang_count_df.loc[\"total\", job_type] = df.shape[0]\n",
    "    for language in languages:\n",
    "        lang_count_df.loc[language,job_type] = df[\"LanguageHaveWorkedWith\"].str.count(language).sum()\n",
    "    lang_count_df.loc[\"C\", job_type] = df[\"LanguageHaveWorkedWith\"].str.count(\"C[^\\w+#]\").sum()\n",
    "    lang_count_df.loc[\"C++\", job_type] = df[\"LanguageHaveWorkedWith\"].str.count(\"C\\+\\+\").sum()"
   ]
  },
  {
   "cell_type": "code",
   "execution_count": null,
   "metadata": {
    "pycharm": {
     "name": "#%%\n"
    }
   },
   "outputs": [],
   "source": [
    "add_lang_count(ds_df,\"Data Scientist\")\n",
    "add_lang_count(da_df, \"Data Analyst\")\n",
    "add_lang_count(de_df, \"Data Engineer\")\n",
    "add_lang_count(dba_df, \"Database Administrator\")\n",
    "lang_count_df"
   ]
  },
  {
   "cell_type": "markdown",
   "metadata": {
    "pycharm": {
     "name": "#%% md\n"
    }
   },
   "source": [
    "### Data Analysis and Visualization"
   ]
  },
  {
   "cell_type": "markdown",
   "metadata": {
    "pycharm": {
     "name": "#%% md\n"
    }
   },
   "source": [
    "Import visualization libraries"
   ]
  },
  {
   "cell_type": "code",
   "execution_count": null,
   "metadata": {
    "pycharm": {
     "name": "#%%\n"
    }
   },
   "outputs": [],
   "source": [
    "import plotly.graph_objs as go\n",
    "import plotly.express as px\n",
    "import plotly.offline as pyo\n",
    "pyo.init_notebook_mode()"
   ]
  },
  {
   "cell_type": "markdown",
   "metadata": {
    "pycharm": {
     "name": "#%% md\n"
    }
   },
   "source": [
    "We will add a new column to calculate the most used programming languages across all data related professions. Note that the sample size of data scientist is larger compared to other groups, and the sample of database administrator is smaller compared to the other groups."
   ]
  },
  {
   "cell_type": "code",
   "execution_count": null,
   "metadata": {
    "pycharm": {
     "name": "#%%\n"
    }
   },
   "outputs": [],
   "source": [
    "total_ser = lang_count_df.sum(axis = 1)\n",
    "lang_count_df[\"Total\"] = total_ser"
   ]
  },
  {
   "cell_type": "markdown",
   "metadata": {
    "pycharm": {
     "name": "#%% md\n"
    }
   },
   "source": [
    "Normalize the data to percentage, and add a color code to each language."
   ]
  },
  {
   "cell_type": "code",
   "execution_count": null,
   "metadata": {
    "pycharm": {
     "name": "#%%\n"
    }
   },
   "outputs": [],
   "source": [
    "normalize_df = lang_count_df.iloc[1:]/lang_count_df.loc[\"total\"]\n",
    "normalize_df[\"Color\"] = \"NA\""
   ]
  },
  {
   "cell_type": "code",
   "execution_count": null,
   "metadata": {
    "pycharm": {
     "name": "#%%\n"
    }
   },
   "outputs": [],
   "source": [
    "for n in range(normalize_df.shape[0]):\n",
    "    normalize_df.iloc[n, -1] = px.colors.qualitative.Light24[n]\n",
    "normalize_df"
   ]
  },
  {
   "cell_type": "markdown",
   "metadata": {
    "pycharm": {
     "name": "#%% md\n"
    }
   },
   "source": [
    "Extract the top 5 languages from each job type. `sort_index()` is used to give a better visualization result."
   ]
  },
  {
   "cell_type": "code",
   "execution_count": null,
   "metadata": {
    "pycharm": {
     "name": "#%%\n"
    }
   },
   "outputs": [],
   "source": [
    "top_5_total = normalize_df[[\"Total\",\"Color\"]].sort_values(\"Total\", ascending=False)[:5].sort_index()\n",
    "top_5_ds = normalize_df[[\"Data Scientist\", \"Color\"]].sort_values(\"Data Scientist\", ascending=False)[:5].sort_index()\n",
    "top_5_da = normalize_df[[\"Data Analyst\", \"Color\"]].sort_values(\"Data Analyst\", ascending=False)[:5].sort_index()\n",
    "top_5_de = normalize_df[[\"Data Engineer\", \"Color\"]].sort_values(\"Data Engineer\", ascending=False)[:5].sort_index()\n",
    "top_5_dba = normalize_df[[\"Database Administrator\", \"Color\"]].sort_values(\"Database Administrator\", ascending=False)[:5].sort_index()\n",
    "\n",
    "top_5_list = [top_5_total, top_5_ds, top_5_da, top_5_de, top_5_dba]\n",
    "for df in top_5_list:\n",
    "    df.columns = [\"Total\", \"Color\"]\n",
    "\n",
    "top_5_total"
   ]
  },
  {
   "cell_type": "code",
   "execution_count": null,
   "metadata": {
    "pycharm": {
     "name": "#%%\n"
    }
   },
   "outputs": [],
   "source": [
    "fig = go.Figure(go.Barpolar(\n",
    "    r= top_5_total[\"Total\"],\n",
    "    theta= top_5_total.index,\n",
    "    width=0.45,\n",
    "    marker_color=top_5_total[\"Color\"],\n",
    "    marker_line_color=\"black\",\n",
    "    marker_line_width=2,\n",
    "    opacity=0.7\n",
    "))\n",
    "\n",
    "fig.update_layout(\n",
    "    template=\"ggplot2\",\n",
    "    polar = dict(\n",
    "        radialaxis = dict(range=[0, 1.0], showticklabels=False, ticks=''),\n",
    "        angularaxis = dict(showticklabels=True, ticks='')\n",
    "    )\n",
    ")\n",
    "\n",
    "fig.show()"
   ]
  },
  {
   "cell_type": "code",
   "execution_count": null,
   "metadata": {
    "pycharm": {
     "name": "#%%\n"
    }
   },
   "outputs": [],
   "source": [
    "from plotly.subplots import make_subplots\n",
    "\n",
    "fig = make_subplots(rows=2, cols=2, specs=[[{'type': 'polar'}]*2]*2, subplot_titles=(\"<b>Data Scientist</b>\", \"<b>Data Analyst</b>\", \"<b>Data Engineer</b>\", \"<b>Database Administrator</b>\"))\n",
    "\n",
    "fig.add_trace(go.Barpolar(\n",
    "    r= top_5_ds[\"Total\"],\n",
    "    theta= top_5_ds.index,\n",
    "    width=0.45,\n",
    "    marker_color=top_5_ds[\"Color\"],\n",
    "    marker_line_color=\"black\",\n",
    "    marker_line_width=2,\n",
    "    opacity=0.7\n",
    "), 1, 1)\n",
    "fig.add_trace(go.Barpolar(\n",
    "    r= top_5_da[\"Total\"],\n",
    "    theta= top_5_da.index,\n",
    "    width=0.45,\n",
    "    marker_color=top_5_da[\"Color\"],\n",
    "    marker_line_color=\"black\",\n",
    "    marker_line_width=2,\n",
    "    opacity=0.7\n",
    "), 1, 2)\n",
    "fig.add_trace(go.Barpolar(\n",
    "    r= top_5_de[\"Total\"],\n",
    "    theta= top_5_de.index,\n",
    "    width=0.45,\n",
    "    marker_color=top_5_de[\"Color\"],\n",
    "    marker_line_color=\"black\",\n",
    "    marker_line_width=2,\n",
    "    opacity=0.7\n",
    "), 2, 1)\n",
    "fig.add_trace(go.Barpolar(\n",
    "    r= top_5_dba[\"Total\"],\n",
    "    theta= top_5_dba.index,\n",
    "    width=0.45,\n",
    "    marker_color=top_5_dba[\"Color\"],\n",
    "    marker_line_color=\"black\",\n",
    "    marker_line_width=2,\n",
    "    opacity=0.7\n",
    "), 2, 2)\n",
    "fig.update_traces(hovertemplate='%{theta}: %{r:.2f}<extra></extra>')\n",
    "fig.update_layout(\n",
    "    font_color=\"darkblue\",\n",
    "    font_family=\"Helvetica\",\n",
    "    title_font_color=\"darkblue\",\n",
    "    title_font_family=\"Helvetica\",\n",
    "    title_font_size=24,\n",
    "    margin = dict(t = 150),\n",
    "    paper_bgcolor='#DEDCC6',\n",
    "    height = 800,\n",
    "    width = 1000,\n",
    "    showlegend = False,\n",
    "    title=dict(text=\"<b>Popular Languages for Data Professionals</b>\"),\n",
    "    template=\"ggplot2\",\n",
    "    polar = dict(\n",
    "        radialaxis = dict(range=[0, 1.0], showline = False, showticklabels=False, ticks=''),\n",
    "        angularaxis = dict(showticklabels=True, ticks='', linecolor='black', linewidth=1.5)\n",
    "    ),\n",
    "    polar2 = dict(\n",
    "        radialaxis = dict(range=[0, 1.0], showline = False, showticklabels=False, ticks=''),\n",
    "        angularaxis = dict(showticklabels=True, ticks='', linecolor='black', linewidth=1.5)\n",
    "    ),\n",
    "    polar3 = dict(\n",
    "        radialaxis = dict(range=[0, 1.0], showline = False, showticklabels=False, ticks=''),\n",
    "        angularaxis = dict(showticklabels=True, ticks='', linecolor='black', linewidth=1.5)\n",
    "    ),\n",
    "    polar4 = dict(\n",
    "        radialaxis = dict(range=[0, 1.0], showline = False, showticklabels=False, ticks=''),\n",
    "        angularaxis = dict(showticklabels=True, ticks='', linecolor='black', linewidth=1.5)\n",
    "    )\n",
    "\n",
    ")\n",
    "fig.update_annotations(yshift=20)\n",
    "fig.add_annotation({\n",
    "    \"x\": 1.05,\n",
    "    \"y\": -0.1,\n",
    "    \"font\": {\"size\": 14},\n",
    "    \"text\": \"tmtsmrsl.github.io\",\n",
    "    \"showarrow\": False\n",
    "})\n",
    "\n",
    "fig.show()"
   ]
  }
 ],
 "metadata": {
  "kernelspec": {
   "display_name": "Python 3 (ipykernel)",
   "language": "python",
   "name": "python3"
  },
  "language_info": {
   "codemirror_mode": {
    "name": "ipython",
    "version": 3
   },
   "file_extension": ".py",
   "mimetype": "text/x-python",
   "name": "python",
   "nbconvert_exporter": "python",
   "pygments_lexer": "ipython3",
   "version": "3.9.12"
  }
 },
 "nbformat": 4,
 "nbformat_minor": 1
}
